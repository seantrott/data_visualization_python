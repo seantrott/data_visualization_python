{
 "cells": [
  {
   "cell_type": "markdown",
   "metadata": {
    "slideshow": {
     "slide_type": "slide"
    }
   },
   "source": [
    "# Introduction to Data Visualization in Python\n",
    "\n",
    "*Author: Sean Trott*\n",
    "\n",
    "The goal of this tutorial is to familiarize you with the basics of data visualization in Python.\n",
    "\n",
    "Note that the slides version can be found [here](https://seantrott.github.io/data_visualization_python/trott.slides.html), and the repository itself can be found [here](https://github.com/seantrott/data_visualization_python)."
   ]
  },
  {
   "cell_type": "markdown",
   "metadata": {
    "slideshow": {
     "slide_type": "slide"
    }
   },
   "source": [
    "## What is data visualization?\n",
    "\n",
    "[Data visualization](https://en.wikipedia.org/wiki/Data_visualization) refers to the process (and result) of representing data graphically.\n",
    "\n",
    "For our purposes today, we'll be talking mostly about common methods of **plotting** data, including:\n",
    "\n",
    "- Histograms  \n",
    "- Scatterplots  \n",
    "- Line plots\n",
    "- Bar plots"
   ]
  },
  {
   "cell_type": "markdown",
   "metadata": {
    "slideshow": {
     "slide_type": "slide"
    }
   },
   "source": [
    "## Why is data visualization important?\n",
    "\n",
    "#### Exploratory data analysis\n",
    "\n",
    "- **Checking assumptions**: does my data look like how I expect it to look?\n",
    "- **Generating hypotheses**: what relationships can I discover in the data?\n",
    "\n",
    "#### Communicating insights\n",
    "\n",
    "- Given some insight, how can I communicate this **clearly**, **concisely**, and **accurately**?\n",
    "\n",
    "#### Impacting the world\n",
    "\n",
    "- Data visualizations can (and have) played a big role in shaping **policy**, **business decisions**, and more."
   ]
  },
  {
   "cell_type": "markdown",
   "metadata": {
    "slideshow": {
     "slide_type": "slide"
    }
   },
   "source": [
    "### Exploratory Data Analysis: Checking your assumptions \n",
    "\n",
    "[Anscombe's Quartet](https://en.wikipedia.org/wiki/Anscombe%27s_quartet)\n",
    "\n",
    "![title](img/anscombe.png)"
   ]
  },
  {
   "cell_type": "markdown",
   "metadata": {
    "slideshow": {
     "slide_type": "slide"
    }
   },
   "source": [
    "### Communicating Insights\n",
    "\n",
    "[Reference: Full Stack Economics](https://fullstackeconomics.com/18-charts-that-explain-the-american-economy/)\n",
    "\n",
    "![title](img/work.png)"
   ]
  },
  {
   "cell_type": "markdown",
   "metadata": {
    "slideshow": {
     "slide_type": "slide"
    }
   },
   "source": [
    "## Impacting the world\n",
    "\n",
    "[Florence Nightingale](https://en.wikipedia.org/wiki/Florence_Nightingale) (1820-1910) was a social reformer, statistician, and founder of modern nursing.\n",
    "\n",
    "![title](img/polar.jpeg)"
   ]
  },
  {
   "cell_type": "markdown",
   "metadata": {
    "slideshow": {
     "slide_type": "slide"
    }
   },
   "source": [
    "## So how do we visualize data?\n",
    "\n",
    "In today's tutorial, we'll discuss how to visualize data using **Python**.\n"
   ]
  },
  {
   "cell_type": "markdown",
   "metadata": {
    "slideshow": {
     "slide_type": "slide"
    }
   },
   "source": [
    "## Key learning outcomes\n",
    "\n",
    "- **Describe** the benefits and advantages of data visualization.\n",
    "- **Propose** a suitable data visualization for a particular *dataset* and *question*.  \n",
    "- **Implement** a first-draft of this visualization in Python, using either `matplotlib` or `seaborn`.  \n",
    "- **Evaluate** this data visualization and make suggestions for improvements in future iterations.  \n",
    "- **Reconstruct** a visualization found \"in the wild\" using the appropriate dataset."
   ]
  },
  {
   "cell_type": "markdown",
   "metadata": {
    "slideshow": {
     "slide_type": "slide"
    }
   },
   "source": [
    "## Loading packages\n",
    "\n",
    "Here, we load the core packages we'll be using:\n",
    "\n",
    "- [`pandas`](https://pandas.pydata.org/): a library for loading, reshaping, and joining `DataFrame` objects.  \n",
    "- [`matplotlib`](https://matplotlib.org/): Python's core plotting/graphics library.  \n",
    "- [`seaborn`](https://seaborn.pydata.org/): a library built on top of `matplotlib`, which makes certain plotting functions easier.  \n",
    "\n",
    "We also add some lines of code that make sure our visualizations will plot \"inline\" with our code, and that they'll have nice, crisp quality."
   ]
  },
  {
   "cell_type": "code",
   "execution_count": 1,
   "metadata": {
    "slideshow": {
     "slide_type": "slide"
    }
   },
   "outputs": [
    {
     "name": "stderr",
     "output_type": "stream",
     "text": [
      "/Users/seantrott/anaconda3/lib/python3.7/site-packages/pandas/compat/_optional.py:138: UserWarning: Pandas requires version '2.7.0' or newer of 'numexpr' (version '2.6.8' currently installed).\n",
      "  warnings.warn(msg, UserWarning)\n"
     ]
    }
   ],
   "source": [
    "import pandas as pd # conventionalized abbreviation\n",
    "import matplotlib.pyplot as plt # conventionalized abbreviation\n",
    "import seaborn as sns # conventionalized abbreviation"
   ]
  },
  {
   "cell_type": "code",
   "execution_count": 2,
   "metadata": {
    "slideshow": {
     "slide_type": "-"
    }
   },
   "outputs": [],
   "source": [
    "%matplotlib inline \n",
    "%config InlineBackend.figure_format = 'retina'"
   ]
  },
  {
   "cell_type": "markdown",
   "metadata": {
    "slideshow": {
     "slide_type": "slide"
    }
   },
   "source": [
    "## Part 1: Basic plot types with `matplotlib.pyplot`\n",
    "\n",
    "In this section, we'll explore several basic plot types, first using `matplotlib.pyplot`. These will include:\n",
    "\n",
    "- Histograms  \n",
    "- Scatterplots  \n",
    "- Barplots    \n",
    "\n",
    "Afterwards (in Part 2), we will discuss how to replicate these plot types with `seaborn`, an API built on top of `pyplot`."
   ]
  },
  {
   "cell_type": "markdown",
   "metadata": {
    "slideshow": {
     "slide_type": "slide"
    }
   },
   "source": [
    "### Load dataset\n",
    "\n",
    "To get started, we'll load a dataset from `seaborn`."
   ]
  },
  {
   "cell_type": "code",
   "execution_count": 3,
   "metadata": {},
   "outputs": [
    {
     "data": {
      "text/plain": [
       "6433"
      ]
     },
     "execution_count": 3,
     "metadata": {},
     "output_type": "execute_result"
    }
   ],
   "source": [
    "## Load taxis dataset\n",
    "df_taxis = sns.load_dataset(\"taxis\")\n",
    "len(df_taxis)"
   ]
  },
  {
   "cell_type": "code",
   "execution_count": 4,
   "metadata": {
    "slideshow": {
     "slide_type": "slide"
    }
   },
   "outputs": [
    {
     "data": {
      "text/html": [
       "<div>\n",
       "<style scoped>\n",
       "    .dataframe tbody tr th:only-of-type {\n",
       "        vertical-align: middle;\n",
       "    }\n",
       "\n",
       "    .dataframe tbody tr th {\n",
       "        vertical-align: top;\n",
       "    }\n",
       "\n",
       "    .dataframe thead th {\n",
       "        text-align: right;\n",
       "    }\n",
       "</style>\n",
       "<table border=\"1\" class=\"dataframe\">\n",
       "  <thead>\n",
       "    <tr style=\"text-align: right;\">\n",
       "      <th></th>\n",
       "      <th>pickup</th>\n",
       "      <th>dropoff</th>\n",
       "      <th>passengers</th>\n",
       "      <th>distance</th>\n",
       "      <th>fare</th>\n",
       "      <th>tip</th>\n",
       "      <th>tolls</th>\n",
       "      <th>total</th>\n",
       "      <th>color</th>\n",
       "      <th>payment</th>\n",
       "      <th>pickup_zone</th>\n",
       "      <th>dropoff_zone</th>\n",
       "      <th>pickup_borough</th>\n",
       "      <th>dropoff_borough</th>\n",
       "    </tr>\n",
       "  </thead>\n",
       "  <tbody>\n",
       "    <tr>\n",
       "      <th>0</th>\n",
       "      <td>2019-03-23 20:21:09</td>\n",
       "      <td>2019-03-23 20:27:24</td>\n",
       "      <td>1</td>\n",
       "      <td>1.60</td>\n",
       "      <td>7.0</td>\n",
       "      <td>2.15</td>\n",
       "      <td>0.0</td>\n",
       "      <td>12.95</td>\n",
       "      <td>yellow</td>\n",
       "      <td>credit card</td>\n",
       "      <td>Lenox Hill West</td>\n",
       "      <td>UN/Turtle Bay South</td>\n",
       "      <td>Manhattan</td>\n",
       "      <td>Manhattan</td>\n",
       "    </tr>\n",
       "    <tr>\n",
       "      <th>1</th>\n",
       "      <td>2019-03-04 16:11:55</td>\n",
       "      <td>2019-03-04 16:19:00</td>\n",
       "      <td>1</td>\n",
       "      <td>0.79</td>\n",
       "      <td>5.0</td>\n",
       "      <td>0.00</td>\n",
       "      <td>0.0</td>\n",
       "      <td>9.30</td>\n",
       "      <td>yellow</td>\n",
       "      <td>cash</td>\n",
       "      <td>Upper West Side South</td>\n",
       "      <td>Upper West Side South</td>\n",
       "      <td>Manhattan</td>\n",
       "      <td>Manhattan</td>\n",
       "    </tr>\n",
       "    <tr>\n",
       "      <th>2</th>\n",
       "      <td>2019-03-27 17:53:01</td>\n",
       "      <td>2019-03-27 18:00:25</td>\n",
       "      <td>1</td>\n",
       "      <td>1.37</td>\n",
       "      <td>7.5</td>\n",
       "      <td>2.36</td>\n",
       "      <td>0.0</td>\n",
       "      <td>14.16</td>\n",
       "      <td>yellow</td>\n",
       "      <td>credit card</td>\n",
       "      <td>Alphabet City</td>\n",
       "      <td>West Village</td>\n",
       "      <td>Manhattan</td>\n",
       "      <td>Manhattan</td>\n",
       "    </tr>\n",
       "    <tr>\n",
       "      <th>3</th>\n",
       "      <td>2019-03-10 01:23:59</td>\n",
       "      <td>2019-03-10 01:49:51</td>\n",
       "      <td>1</td>\n",
       "      <td>7.70</td>\n",
       "      <td>27.0</td>\n",
       "      <td>6.15</td>\n",
       "      <td>0.0</td>\n",
       "      <td>36.95</td>\n",
       "      <td>yellow</td>\n",
       "      <td>credit card</td>\n",
       "      <td>Hudson Sq</td>\n",
       "      <td>Yorkville West</td>\n",
       "      <td>Manhattan</td>\n",
       "      <td>Manhattan</td>\n",
       "    </tr>\n",
       "    <tr>\n",
       "      <th>4</th>\n",
       "      <td>2019-03-30 13:27:42</td>\n",
       "      <td>2019-03-30 13:37:14</td>\n",
       "      <td>3</td>\n",
       "      <td>2.16</td>\n",
       "      <td>9.0</td>\n",
       "      <td>1.10</td>\n",
       "      <td>0.0</td>\n",
       "      <td>13.40</td>\n",
       "      <td>yellow</td>\n",
       "      <td>credit card</td>\n",
       "      <td>Midtown East</td>\n",
       "      <td>Yorkville West</td>\n",
       "      <td>Manhattan</td>\n",
       "      <td>Manhattan</td>\n",
       "    </tr>\n",
       "  </tbody>\n",
       "</table>\n",
       "</div>"
      ],
      "text/plain": [
       "                pickup              dropoff  passengers  distance  fare   tip  \\\n",
       "0  2019-03-23 20:21:09  2019-03-23 20:27:24           1      1.60   7.0  2.15   \n",
       "1  2019-03-04 16:11:55  2019-03-04 16:19:00           1      0.79   5.0  0.00   \n",
       "2  2019-03-27 17:53:01  2019-03-27 18:00:25           1      1.37   7.5  2.36   \n",
       "3  2019-03-10 01:23:59  2019-03-10 01:49:51           1      7.70  27.0  6.15   \n",
       "4  2019-03-30 13:27:42  2019-03-30 13:37:14           3      2.16   9.0  1.10   \n",
       "\n",
       "   tolls  total   color      payment            pickup_zone  \\\n",
       "0    0.0  12.95  yellow  credit card        Lenox Hill West   \n",
       "1    0.0   9.30  yellow         cash  Upper West Side South   \n",
       "2    0.0  14.16  yellow  credit card          Alphabet City   \n",
       "3    0.0  36.95  yellow  credit card              Hudson Sq   \n",
       "4    0.0  13.40  yellow  credit card           Midtown East   \n",
       "\n",
       "            dropoff_zone pickup_borough dropoff_borough  \n",
       "0    UN/Turtle Bay South      Manhattan       Manhattan  \n",
       "1  Upper West Side South      Manhattan       Manhattan  \n",
       "2           West Village      Manhattan       Manhattan  \n",
       "3         Yorkville West      Manhattan       Manhattan  \n",
       "4         Yorkville West      Manhattan       Manhattan  "
      ]
     },
     "execution_count": 4,
     "metadata": {},
     "output_type": "execute_result"
    }
   ],
   "source": [
    "## What are the columns/variables in this dataset?\n",
    "df_taxis.head(5)"
   ]
  },
  {
   "cell_type": "markdown",
   "metadata": {
    "slideshow": {
     "slide_type": "slide"
    }
   },
   "source": [
    "### Histograms: plotting frequency distributions\n",
    "\n",
    "**Histograms** are critical for visualizing how your data distribute.\n",
    "\n",
    "They are typically used for **continuous**, **quantitative** variables. Examples could include: *height*, *income*, and *temperature*."
   ]
  },
  {
   "cell_type": "markdown",
   "metadata": {
    "slideshow": {
     "slide_type": "slide"
    }
   },
   "source": [
    "The `pyplot` package has a dedicated function for creating histograms, called `hist` (documentation [here](https://matplotlib.org/3.5.0/api/_as_gen/matplotlib.pyplot.hist.html)). \n",
    "\n",
    "An example call would look like this:\n",
    "\n",
    "```\n",
    "plt.hist(\n",
    "    x = [ ... ],\n",
    "    bins = 10, # set number of bins\n",
    "    density = False, # indicate whether to draw density plot\n",
    "    alpha = True # indicate shading/transparency of plot\n",
    ")\n",
    "```\n",
    "\n",
    "Now let's plot some of our variables from the `taxis` dataset!"
   ]
  },
  {
   "cell_type": "code",
   "execution_count": 6,
   "metadata": {
    "slideshow": {
     "slide_type": "slide"
    }
   },
   "outputs": [
    {
     "data": {
      "image/png": "[encoded data removed]",
      "text/plain": [
       "<Figure size 432x288 with 1 Axes>"
      ]
     },
     "metadata": {
      "image/png": {
       "height": 250,
       "width": 383
      },
      "needs_background": "light"
     },
     "output_type": "display_data"
    }
   ],
   "source": [
    "## Q: How would you describe the shape of this distribution?\n",
    "\n",
    "plt.hist(\n",
    "    x=df_taxis['fare'], # this is the variable we're plotting\n",
    "    bins=20, # this is the number of bins we want to know\n",
    "    alpha = .5 # this is our alpha level\n",
    ")\n",
    "plt.show()"
   ]
  },
  {
   "cell_type": "markdown",
   "metadata": {
    "slideshow": {
     "slide_type": "slide"
    }
   },
   "source": [
    "We can also add axis labels, so it's clear what we're plotting."
   ]
  },
  {
   "cell_type": "code",
   "execution_count": 7,
   "metadata": {},
   "outputs": [
    {
     "data": {
      "image/png": "[encoded data removed]",
      "text/plain": [
       "<Figure size 432x288 with 1 Axes>"
      ]
     },
     "metadata": {
      "image/png": {
       "height": 277,
       "width": 397
      },
      "needs_background": "light"
     },
     "output_type": "display_data"
    }
   ],
   "source": [
    "plt.hist(\n",
    "    x=df_taxis['fare'], # this is the variable we're plotting\n",
    "    bins=20, # this is the number of bins we want to know\n",
    "    alpha = .5 # this is our alpha level\n",
    ")\n",
    "plt.xlabel(\"Fare ($)\")\n",
    "plt.ylabel(\"Count\")\n",
    "plt.title(\"Distribution of Taxi Fares ($)\")\n",
    "plt.show()"
   ]
  },
  {
   "cell_type": "markdown",
   "metadata": {
    "slideshow": {
     "slide_type": "slide"
    }
   },
   "source": [
    "#### Q: How would you plot the distribution of trip distances?"
   ]
  },
  {
   "cell_type": "code",
   "execution_count": 5,
   "metadata": {
    "slideshow": {
     "slide_type": "slide"
    }
   },
   "outputs": [],
   "source": [
    "### Fill in"
   ]
  },
  {
   "cell_type": "markdown",
   "metadata": {
    "slideshow": {
     "slide_type": "slide"
    }
   },
   "source": [
    "#### Q: What about the distribution of tip amounts?"
   ]
  },
  {
   "cell_type": "code",
   "execution_count": 6,
   "metadata": {
    "slideshow": {
     "slide_type": "slide"
    }
   },
   "outputs": [],
   "source": [
    "### Fill in"
   ]
  },
  {
   "cell_type": "markdown",
   "metadata": {
    "slideshow": {
     "slide_type": "slide"
    }
   },
   "source": [
    "#### Q: What if we wanted to plot the distribution of tip *percentages*?"
   ]
  },
  {
   "cell_type": "markdown",
   "metadata": {
    "slideshow": {
     "slide_type": "slide"
    }
   },
   "source": [
    "#### Creating a new variable\n",
    "\n",
    "Presumably, these tip amounts *correlate* with the overall fare. We might also want to know about the amount in **percentage-terms**, e.g., how much a customer tipped as a percentage of how much the fare was."
   ]
  },
  {
   "cell_type": "code",
   "execution_count": 7,
   "metadata": {},
   "outputs": [],
   "source": [
    "## tip_pct = tip / fare\n",
    "df_taxis['tip_pct'] = (df_taxis['tip'] / df_taxis['fare']) * 100"
   ]
  },
  {
   "cell_type": "markdown",
   "metadata": {
    "slideshow": {
     "slide_type": "slide"
    }
   },
   "source": [
    "Now we can plot this new variable, to get a sense of the distribution of tip percentages.\n",
    "\n",
    "**Q: What conclusions might we draw about the distribution of tip percentages here?**"
   ]
  },
  {
   "cell_type": "code",
   "execution_count": 8,
   "metadata": {},
   "outputs": [],
   "source": [
    "### fill in"
   ]
  },
  {
   "cell_type": "markdown",
   "metadata": {
    "slideshow": {
     "slide_type": "slide"
    }
   },
   "source": [
    "#### Q: Adding other markers to the plot?\n",
    "\n",
    "What if we wanted to add more information to this plot, such as the **mean** tip percentage?\n",
    "\n",
    "(Hint: use either `plt.axvline` or `plt.text`)."
   ]
  },
  {
   "cell_type": "code",
   "execution_count": 12,
   "metadata": {
    "slideshow": {
     "slide_type": "slide"
    }
   },
   "outputs": [],
   "source": [
    "# First, calculate mean tip for ease of access\n",
    "MEAN_TIP = df_taxis['tip_pct'].mean()"
   ]
  },
  {
   "cell_type": "code",
   "execution_count": 9,
   "metadata": {
    "slideshow": {
     "slide_type": "slide"
    }
   },
   "outputs": [],
   "source": [
    "### Fill in"
   ]
  },
  {
   "cell_type": "code",
   "execution_count": 10,
   "metadata": {
    "slideshow": {
     "slide_type": "slide"
    }
   },
   "outputs": [],
   "source": [
    "## Fill in"
   ]
  },
  {
   "cell_type": "markdown",
   "metadata": {
    "slideshow": {
     "slide_type": "slide"
    }
   },
   "source": [
    "### Scatterplots: plotting multiple continuous variables\n",
    "\n",
    "**Scatterplots** can be used to look at how two different continuous variables *relate* to each other.\n",
    "\n",
    "Among other things, scatterplots are critical for exploratory data analysis––for example, if you want to run a linear regression on your dataset, it is important to determine that the relationship you're investigating is linear (remember [Anscombe's Quartet](https://en.wikipedia.org/wiki/Anscombe%27s_quartet))."
   ]
  },
  {
   "cell_type": "markdown",
   "metadata": {
    "slideshow": {
     "slide_type": "slide"
    }
   },
   "source": [
    "The `pyplot` package has a dedicated function for creating scatterplots as well, called `scatter` (documentation [here](https://matplotlib.org/3.5.0/api/_as_gen/matplotlib.pyplot.scatter.html)).\n",
    "\n",
    "An example call would look like this:\n",
    "\n",
    "```\n",
    "plt.scatter(\n",
    "    x = [ ... ], # array of values for x-axis\n",
    "    y = [ ... ], # array of values for y-axis\n",
    "    c = [ ... ], # array of values to indicate color of points\n",
    "    alpha = True # indicate shading/transparency of plot\n",
    ")\n",
    "```"
   ]
  },
  {
   "cell_type": "markdown",
   "metadata": {
    "slideshow": {
     "slide_type": "slide"
    }
   },
   "source": [
    "#### What to ask our data?\n",
    "\n",
    "Intuitively, we might want to know a few things:\n",
    "\n",
    "1. Do longer distances cost more?\n",
    "2. Do people tip more (either in *amount* or *percentage* terms) for longer distances? \n",
    "3. Does it cost more to travel more between *boroughs*, even holding the distance constant?"
   ]
  },
  {
   "cell_type": "code",
   "execution_count": 11,
   "metadata": {
    "slideshow": {
     "slide_type": "slide"
    }
   },
   "outputs": [
    {
     "data": {
      "image/png": "[encoded data removed]",
      "text/plain": [
       "<Figure size 432x288 with 1 Axes>"
      ]
     },
     "metadata": {
      "image/png": {
       "height": 277,
       "width": 390
      },
      "needs_background": "light"
     },
     "output_type": "display_data"
    }
   ],
   "source": [
    "# Q: Do longer distances cost more?\n",
    "\n",
    "plt.scatter(\n",
    "    x = df_taxis['distance'],\n",
    "    y = df_taxis['fare'],\n",
    "    alpha = .6\n",
    ")\n",
    "plt.xlabel(\"Distance (miles)\")\n",
    "plt.ylabel(\"Fare ($)\")\n",
    "plt.title(\"Raw Fare by Distance Traveled\")\n",
    "plt.show()"
   ]
  },
  {
   "cell_type": "markdown",
   "metadata": {
    "slideshow": {
     "slide_type": "slide"
    }
   },
   "source": [
    "#### Q: How could we ask about the relationship between distance and tip amount?"
   ]
  },
  {
   "cell_type": "code",
   "execution_count": 12,
   "metadata": {
    "slideshow": {
     "slide_type": "slide"
    }
   },
   "outputs": [],
   "source": [
    "### Fill in"
   ]
  },
  {
   "cell_type": "markdown",
   "metadata": {
    "slideshow": {
     "slide_type": "slide"
    }
   },
   "source": [
    "#### Q: What about distance and tip percentage?"
   ]
  },
  {
   "cell_type": "code",
   "execution_count": 13,
   "metadata": {
    "slideshow": {
     "slide_type": "slide"
    }
   },
   "outputs": [],
   "source": [
    "### Fill in"
   ]
  },
  {
   "cell_type": "markdown",
   "metadata": {
    "slideshow": {
     "slide_type": "slide"
    }
   },
   "source": [
    "#### Q: What about crossing between boroughs?"
   ]
  },
  {
   "cell_type": "code",
   "execution_count": 14,
   "metadata": {
    "slideshow": {
     "slide_type": "slide"
    }
   },
   "outputs": [
    {
     "data": {
      "text/html": [
       "<div>\n",
       "<style scoped>\n",
       "    .dataframe tbody tr th:only-of-type {\n",
       "        vertical-align: middle;\n",
       "    }\n",
       "\n",
       "    .dataframe tbody tr th {\n",
       "        vertical-align: top;\n",
       "    }\n",
       "\n",
       "    .dataframe thead th {\n",
       "        text-align: right;\n",
       "    }\n",
       "</style>\n",
       "<table border=\"1\" class=\"dataframe\">\n",
       "  <thead>\n",
       "    <tr style=\"text-align: right;\">\n",
       "      <th></th>\n",
       "      <th>pickup</th>\n",
       "      <th>dropoff</th>\n",
       "      <th>passengers</th>\n",
       "      <th>distance</th>\n",
       "      <th>fare</th>\n",
       "      <th>tip</th>\n",
       "      <th>tolls</th>\n",
       "      <th>total</th>\n",
       "      <th>color</th>\n",
       "      <th>payment</th>\n",
       "      <th>pickup_zone</th>\n",
       "      <th>dropoff_zone</th>\n",
       "      <th>pickup_borough</th>\n",
       "      <th>dropoff_borough</th>\n",
       "      <th>tip_pct</th>\n",
       "      <th>crossed_borough</th>\n",
       "    </tr>\n",
       "  </thead>\n",
       "  <tbody>\n",
       "    <tr>\n",
       "      <th>0</th>\n",
       "      <td>2019-03-23 20:21:09</td>\n",
       "      <td>2019-03-23 20:27:24</td>\n",
       "      <td>1</td>\n",
       "      <td>1.6</td>\n",
       "      <td>7.0</td>\n",
       "      <td>2.15</td>\n",
       "      <td>0.0</td>\n",
       "      <td>12.95</td>\n",
       "      <td>yellow</td>\n",
       "      <td>credit card</td>\n",
       "      <td>Lenox Hill West</td>\n",
       "      <td>UN/Turtle Bay South</td>\n",
       "      <td>Manhattan</td>\n",
       "      <td>Manhattan</td>\n",
       "      <td>30.714286</td>\n",
       "      <td>False</td>\n",
       "    </tr>\n",
       "  </tbody>\n",
       "</table>\n",
       "</div>"
      ],
      "text/plain": [
       "                pickup              dropoff  passengers  distance  fare   tip  \\\n",
       "0  2019-03-23 20:21:09  2019-03-23 20:27:24           1       1.6   7.0  2.15   \n",
       "\n",
       "   tolls  total   color      payment      pickup_zone         dropoff_zone  \\\n",
       "0    0.0  12.95  yellow  credit card  Lenox Hill West  UN/Turtle Bay South   \n",
       "\n",
       "  pickup_borough dropoff_borough    tip_pct  crossed_borough  \n",
       "0      Manhattan       Manhattan  30.714286            False  "
      ]
     },
     "execution_count": 14,
     "metadata": {},
     "output_type": "execute_result"
    }
   ],
   "source": [
    "## Create a new variable\n",
    "df_taxis['crossed_borough'] = df_taxis['pickup_borough'] != df_taxis['dropoff_borough']\n",
    "df_taxis.head(1)"
   ]
  },
  {
   "cell_type": "markdown",
   "metadata": {
    "slideshow": {
     "slide_type": "slide"
    }
   },
   "source": [
    "#### Plotting categorical *and* continuous data\n",
    "\n",
    "Now, we want to add more information to our scatterplot––we have a *categorical* variable (`crossed_borough`), and we want the color (or perhaps shape) of each point to indicate the level of that variable, i.e., whether the trip crossed between boroughs. "
   ]
  },
  {
   "cell_type": "code",
   "execution_count": 15,
   "metadata": {
    "slideshow": {
     "slide_type": "slide"
    }
   },
   "outputs": [],
   "source": [
    "### Fill in"
   ]
  },
  {
   "cell_type": "markdown",
   "metadata": {
    "slideshow": {
     "slide_type": "slide"
    }
   },
   "source": [
    "### Barplots\n",
    "\n",
    "Another commonly found type of plot is a **barplot**. \n",
    "\n",
    "Typically, barplots feature:\n",
    "\n",
    "- On the x-axis, a **categorical** (i.e., nominal) variable.  \n",
    "- On the y-axis, a **continuous** variable, usually summarized in some way (e.g., the means, with standard errors).\n",
    "\n",
    "Barplots are effective for drawing attention to differences in the magnitude of some quantity across categories––though personally, I don't think they're always the most effective in terms of the amount of information conveyed per unit of space."
   ]
  },
  {
   "cell_type": "markdown",
   "metadata": {
    "slideshow": {
     "slide_type": "slide"
    }
   },
   "source": [
    "### Barplots in `pyplot`\n",
    "\n",
    "The corresponding `pyplot` function is `bar`. We saw this earlier, when we were trying to plot the *counts* of a categorical variable.\n",
    "\n",
    "The basic inputs are as follows:\n",
    "\n",
    "```\n",
    "plt.bar(\n",
    "    x = [ ... ], # array of categories\n",
    "    height = [ ... ] # height of each category\n",
    ")\n",
    "\n",
    "```"
   ]
  },
  {
   "cell_type": "markdown",
   "metadata": {
    "slideshow": {
     "slide_type": "slide"
    }
   },
   "source": [
    "#### Q: What is the *mean* tip % for green vs. yellow taxis?"
   ]
  },
  {
   "cell_type": "markdown",
   "metadata": {
    "slideshow": {
     "slide_type": "slide"
    }
   },
   "source": [
    "#### Creating a new dataframe using `groupby`\n",
    "\n",
    "Once again, `groupby` is very helpful here. We'll want to:\n",
    "\n",
    "1. Calculate the mean `tip_pct` for each level of the `color` variable.  \n",
    "3. Plot this using `plt.bar`.  "
   ]
  },
  {
   "cell_type": "code",
   "execution_count": 16,
   "metadata": {
    "slideshow": {
     "slide_type": "slide"
    }
   },
   "outputs": [
    {
     "data": {
      "text/html": [
       "<div>\n",
       "<style scoped>\n",
       "    .dataframe tbody tr th:only-of-type {\n",
       "        vertical-align: middle;\n",
       "    }\n",
       "\n",
       "    .dataframe tbody tr th {\n",
       "        vertical-align: top;\n",
       "    }\n",
       "\n",
       "    .dataframe thead th {\n",
       "        text-align: right;\n",
       "    }\n",
       "</style>\n",
       "<table border=\"1\" class=\"dataframe\">\n",
       "  <thead>\n",
       "    <tr style=\"text-align: right;\">\n",
       "      <th></th>\n",
       "      <th>color</th>\n",
       "      <th>tip_pct</th>\n",
       "    </tr>\n",
       "  </thead>\n",
       "  <tbody>\n",
       "    <tr>\n",
       "      <th>0</th>\n",
       "      <td>green</td>\n",
       "      <td>7.441110</td>\n",
       "    </tr>\n",
       "    <tr>\n",
       "      <th>1</th>\n",
       "      <td>yellow</td>\n",
       "      <td>18.627966</td>\n",
       "    </tr>\n",
       "  </tbody>\n",
       "</table>\n",
       "</div>"
      ],
      "text/plain": [
       "    color    tip_pct\n",
       "0   green   7.441110\n",
       "1  yellow  18.627966"
      ]
     },
     "execution_count": 16,
     "metadata": {},
     "output_type": "execute_result"
    }
   ],
   "source": [
    "df_color_tips_mean = df_taxis[['tip_pct', 'color']].groupby('color').mean().reset_index()\n",
    "df_color_tips_mean"
   ]
  },
  {
   "cell_type": "code",
   "execution_count": 17,
   "metadata": {
    "slideshow": {
     "slide_type": "slide"
    }
   },
   "outputs": [
    {
     "data": {
      "text/plain": [
       "Text(0.5, 1.0, 'Tip (%) by Taxi Color')"
      ]
     },
     "execution_count": 17,
     "metadata": {},
     "output_type": "execute_result"
    },
    {
     "data": {
      "image/png": "[encoded data removed]",
      "text/plain": [
       "<Figure size 432x288 with 1 Axes>"
      ]
     },
     "metadata": {
      "image/png": {
       "height": 277,
       "width": 393
      },
      "needs_background": "light"
     },
     "output_type": "display_data"
    }
   ],
   "source": [
    "# Q: What's missing from this graph?\n",
    "\n",
    "plt.bar(x = df_color_tips_mean['color'],\n",
    "       height = df_color_tips_mean['tip_pct'])\n",
    "plt.xlabel(\"Taxi Color\")\n",
    "plt.ylabel(\"Tip (%)\")\n",
    "plt.title(\"Tip (%) by Taxi Color\")"
   ]
  },
  {
   "cell_type": "markdown",
   "metadata": {
    "slideshow": {
     "slide_type": "slide"
    }
   },
   "source": [
    "#### Adding error bars\n",
    "\n",
    "To add error bars, we can use `plt.errorbar`."
   ]
  },
  {
   "cell_type": "code",
   "execution_count": 18,
   "metadata": {
    "slideshow": {
     "slide_type": "slide"
    }
   },
   "outputs": [
    {
     "data": {
      "text/html": [
       "<div>\n",
       "<style scoped>\n",
       "    .dataframe tbody tr th:only-of-type {\n",
       "        vertical-align: middle;\n",
       "    }\n",
       "\n",
       "    .dataframe tbody tr th {\n",
       "        vertical-align: top;\n",
       "    }\n",
       "\n",
       "    .dataframe thead th {\n",
       "        text-align: right;\n",
       "    }\n",
       "</style>\n",
       "<table border=\"1\" class=\"dataframe\">\n",
       "  <thead>\n",
       "    <tr style=\"text-align: right;\">\n",
       "      <th></th>\n",
       "      <th>color</th>\n",
       "      <th>tip_pct</th>\n",
       "    </tr>\n",
       "  </thead>\n",
       "  <tbody>\n",
       "    <tr>\n",
       "      <th>0</th>\n",
       "      <td>green</td>\n",
       "      <td>0.384112</td>\n",
       "    </tr>\n",
       "    <tr>\n",
       "      <th>1</th>\n",
       "      <td>yellow</td>\n",
       "      <td>0.194550</td>\n",
       "    </tr>\n",
       "  </tbody>\n",
       "</table>\n",
       "</div>"
      ],
      "text/plain": [
       "    color   tip_pct\n",
       "0   green  0.384112\n",
       "1  yellow  0.194550"
      ]
     },
     "execution_count": 18,
     "metadata": {},
     "output_type": "execute_result"
    }
   ],
   "source": [
    "## First, calculate standard error of the mean\n",
    "df_color_tips_sem = df_taxis[['tip_pct', 'color']].groupby('color').sem().reset_index()\n",
    "df_color_tips_sem"
   ]
  },
  {
   "cell_type": "code",
   "execution_count": 19,
   "metadata": {
    "slideshow": {
     "slide_type": "slide"
    }
   },
   "outputs": [
    {
     "data": {
      "text/plain": [
       "Text(0.5, 1.0, 'Tip (%) by Taxi Color')"
      ]
     },
     "execution_count": 19,
     "metadata": {},
     "output_type": "execute_result"
    },
    {
     "data": {
      "image/png": "[encoded data removed]",
      "text/plain": [
       "<Figure size 432x288 with 1 Axes>"
      ]
     },
     "metadata": {
      "image/png": {
       "height": 277,
       "width": 393
      },
      "needs_background": "light"
     },
     "output_type": "display_data"
    }
   ],
   "source": [
    "plt.bar(x = df_color_tips_mean['color'],\n",
    "        height = df_color_tips_mean['tip_pct'])\n",
    "\n",
    "plt.errorbar(x = df_color_tips_mean['color'], ## as with bar, the x-axis is the *color*\n",
    "             y = df_color_tips_mean['tip_pct'], ## as with bar, the y-axis is the *mean*\n",
    "             yerr = df_color_tips_sem['tip_pct'] * 2, ## two standard errors, as typical\n",
    "             ls = 'none', ## toggle this to connect or not connect the lines\n",
    "             color = \"black\")\n",
    "\n",
    "plt.xlabel(\"Taxi Color\")\n",
    "plt.ylabel(\"Tip (%)\")\n",
    "plt.title(\"Tip (%) by Taxi Color\")"
   ]
  },
  {
   "cell_type": "markdown",
   "metadata": {
    "slideshow": {
     "slide_type": "slide"
    }
   },
   "source": [
    "### Other `pyplot` affordances\n",
    "\n",
    "This short tutorial really only scratched the surface of what you can do with `pyplot`. \n",
    "\n",
    "Just to give a sense:\n",
    "\n",
    "- [Add text to a plot with `pyplot.text`](https://matplotlib.org/stable/tutorials/text/text_intro.html)  \n",
    "- [Create multiple subplots](https://matplotlib.org/stable/api/axes_api.html#subplots)  \n",
    "- Create other types of plots, like [boxplots](https://matplotlib.org/stable/api/_as_gen/matplotlib.pyplot.boxplot.html) or lineplots. \n",
    "\n"
   ]
  },
  {
   "cell_type": "markdown",
   "metadata": {
    "slideshow": {
     "slide_type": "slide"
    }
   },
   "source": [
    "## Part 2: Plotting with `seaborn`\n",
    "\n",
    "In this section, we'll replicate some of those same plots from above, but now using `seaborn`.\n",
    "\n",
    "As you'll see, `seaborn` offers an API that's (in most cases) cleaner and easier to use than `pyplot`, though there's a trade-off in terms of flexibility."
   ]
  },
  {
   "cell_type": "markdown",
   "metadata": {
    "slideshow": {
     "slide_type": "slide"
    }
   },
   "source": [
    "### Histograms\n",
    "\n",
    "Depending on your *version* of `seaborn`, you can plot a histogram using either:\n",
    "\n",
    "- `seaborn.distplot`: typically used for creating **density plots**, but can be adapted for histograms.\n",
    "- `seaborn.histplot`: targeted more specifically at histograms."
   ]
  },
  {
   "cell_type": "code",
   "execution_count": 20,
   "metadata": {
    "slideshow": {
     "slide_type": "slide"
    }
   },
   "outputs": [
    {
     "data": {
      "text/plain": [
       "Text(0.5, 1.0, 'Distribution of miles traveled')"
      ]
     },
     "execution_count": 20,
     "metadata": {},
     "output_type": "execute_result"
    },
    {
     "data": {
      "image/png": "[encoded data removed]",
      "text/plain": [
       "<Figure size 432x288 with 1 Axes>"
      ]
     },
     "metadata": {
      "image/png": {
       "height": 277,
       "width": 397
      },
      "needs_background": "light"
     },
     "output_type": "display_data"
    }
   ],
   "source": [
    "sns.distplot(df_taxis['distance'], ## vector to plot\n",
    "             kde = False, ## whether to use kernel density estimation to fit density curve\n",
    "             norm_hist = False ## whether to norm histogram to display probability vs. counts\n",
    "            )\n",
    "plt.xlabel(\"Distance (miles)\")\n",
    "plt.ylabel(\"Count\")\n",
    "plt.title(\"Distribution of miles traveled\")"
   ]
  },
  {
   "cell_type": "markdown",
   "metadata": {
    "slideshow": {
     "slide_type": "slide"
    }
   },
   "source": [
    "#### Q: Exercise for home––recreate the rest of the histograms from Part 1 using seaborn."
   ]
  },
  {
   "cell_type": "markdown",
   "metadata": {
    "slideshow": {
     "slide_type": "slide"
    }
   },
   "source": [
    "### Scatterplots\n",
    "\n",
    "Fortunately, `seaborn` makes it *much* easier to create scatterplots, especially if you'd like to change the hue or style of the points.\n",
    "\n",
    "```\n",
    "sns.scatterplot(\n",
    "    data = ..., # name of dataframe\n",
    "    x = ..., # name of x-axis variable\n",
    "    y = ..., # name of y-axis variable\n",
    "    hue = ..., # name of hue variable\n",
    "    style = ..., # name of style variable\n",
    "    size = ..., # name of variable to modulate point size\n",
    ")\n",
    "\n",
    "```"
   ]
  },
  {
   "cell_type": "code",
   "execution_count": 21,
   "metadata": {
    "slideshow": {
     "slide_type": "slide"
    }
   },
   "outputs": [
    {
     "data": {
      "image/png": "[encoded data removed]",
      "text/plain": [
       "<Figure size 432x288 with 1 Axes>"
      ]
     },
     "metadata": {
      "image/png": {
       "height": 277,
       "width": 390
      },
      "needs_background": "light"
     },
     "output_type": "display_data"
    }
   ],
   "source": [
    "# Replicating our initial plot: Do longer distances cost more?\n",
    "\n",
    "sns.scatterplot(data = df_taxis,\n",
    "                x = \"distance\",\n",
    "                y = \"fare\",\n",
    "                alpha = .7)\n",
    "plt.xlabel(\"Distance (miles)\")\n",
    "plt.ylabel(\"Fare ($)\")\n",
    "plt.title(\"Raw Fare by Distance Traveled\")\n",
    "plt.show()"
   ]
  },
  {
   "cell_type": "markdown",
   "metadata": {
    "slideshow": {
     "slide_type": "slide"
    }
   },
   "source": [
    "#### Q: How would you create the same plot, but with the points colored to reflect whether a borough has been crossed?"
   ]
  },
  {
   "cell_type": "code",
   "execution_count": 22,
   "metadata": {
    "slideshow": {
     "slide_type": "slide"
    }
   },
   "outputs": [],
   "source": [
    "### fill in"
   ]
  },
  {
   "cell_type": "markdown",
   "metadata": {
    "slideshow": {
     "slide_type": "slide"
    }
   },
   "source": [
    "#### Q: Exercise for home––recreate the other scatterplots, or new ones, using seaborn."
   ]
  },
  {
   "cell_type": "markdown",
   "metadata": {
    "slideshow": {
     "slide_type": "slide"
    }
   },
   "source": [
    "### Bar plots\n",
    "\n",
    "Finally, we can reconstruct some of the **bar plots** we created above, using the `barplot` function.\n",
    "\n",
    "```\n",
    "sns.barplot(\n",
    "    data = ..., # name of dataframe\n",
    "    x = ..., # name of x-axis variable (categorical)\n",
    "    y = ..., # name of y-axis variable (continuous)\n",
    "    hue = ..., # name of hue variable\n",
    "    ci = float # size of confidence intervals to draw (these are estimated using *bootstrapping*, not SEM)\n",
    ")\n",
    "```"
   ]
  },
  {
   "cell_type": "markdown",
   "metadata": {
    "slideshow": {
     "slide_type": "slide"
    }
   },
   "source": [
    "#### Q: How would we recreate the figure showing average tip % by taxi color?"
   ]
  },
  {
   "cell_type": "code",
   "execution_count": 23,
   "metadata": {
    "slideshow": {
     "slide_type": "slide"
    }
   },
   "outputs": [
    {
     "data": {
      "text/plain": [
       "Text(0.5, 1.0, 'Tip (%) by Taxi Color')"
      ]
     },
     "execution_count": 23,
     "metadata": {},
     "output_type": "execute_result"
    },
    {
     "data": {
      "image/png": "[encoded data removed]",
      "text/plain": [
       "<Figure size 432x288 with 1 Axes>"
      ]
     },
     "metadata": {
      "image/png": {
       "height": 277,
       "width": 393
      },
      "needs_background": "light"
     },
     "output_type": "display_data"
    }
   ],
   "source": [
    "sns.barplot(data = df_taxis,\n",
    "            x = \"color\",\n",
    "            y = \"tip_pct\",\n",
    "            ci = 95\n",
    "           )\n",
    "\n",
    "plt.xlabel(\"Color\")\n",
    "plt.ylabel(\"Tip (%)\")\n",
    "plt.title(\"Tip (%) by Taxi Color\")"
   ]
  },
  {
   "cell_type": "markdown",
   "metadata": {
    "slideshow": {
     "slide_type": "slide"
    }
   },
   "source": [
    "#### Q: What other variables would you be interested in looking at? Whether or not they're crossed a borough?"
   ]
  },
  {
   "cell_type": "code",
   "execution_count": 24,
   "metadata": {
    "slideshow": {
     "slide_type": "slide"
    }
   },
   "outputs": [],
   "source": [
    "## Fill in"
   ]
  },
  {
   "cell_type": "markdown",
   "metadata": {
    "slideshow": {
     "slide_type": "slide"
    }
   },
   "source": [
    "### Additional exercises with `taxis`\n",
    "\n",
    "This dataset is quite rich, and you could ask a number of other questions.\n",
    "\n",
    "Just to get you started:\n",
    "\n",
    "1. Does `distance` traveled vary as a function of the **hour** of pickup?  \n",
    "2. Is the `tip_pct` larger as a function of the **hour** of pickup?  \n",
    "3. How does `distance` relate to the **amount of time** between `pickup` and `dropoff`?  \n",
    "4. Do customers tip more when the trip takes longer (controlling for `distance`)? "
   ]
  },
  {
   "cell_type": "markdown",
   "metadata": {
    "slideshow": {
     "slide_type": "slide"
    }
   },
   "source": [
    "## Part 3: Reconstructing plots from \"the wild\" \n",
    "\n",
    "Data visualizations are increasingly common in blog posts, news articles, or even social media.\n",
    "\n",
    "Reconstructing a visualization you find \"in the wild\" can reveal some of the hidden complexities of this process.\n",
    "\n",
    "To that end, I reached out to Timothy Lee, author of a very interesting blog post found on [Full Stack Economics](https://fullstackeconomics.com/18-charts-that-explain-the-american-economy/), entitled \"18 charts that explain the American economy\". He was kind enough to give me the data he used to construct two of the charts included in that post: **chart #7** and **chart #14**.\n",
    "\n",
    "In this reconstruction, let's focus on Chart 14."
   ]
  },
  {
   "cell_type": "markdown",
   "metadata": {
    "slideshow": {
     "slide_type": "slide"
    }
   },
   "source": [
    "### Chart 14: Reasons for missing work\n",
    "\n",
    "This chart depicts the relative magnitudes of different causes for missing work, over time. For me, there are a couple takeaways:\n",
    "\n",
    "1. Vacation time is highly seasonal, peaking each summer and creating an almost oscillatory pattern.  \n",
    "2. Starting with 2020, vacation time drops a bit (though preserves the seasonal pattern), and we see a rise in missed work due to illness.\n",
    "\n",
    "Let's try to reconstruct the chart from scratch!"
   ]
  },
  {
   "cell_type": "markdown",
   "metadata": {
    "slideshow": {
     "slide_type": "slide"
    }
   },
   "source": [
    "Just for reference, the chart looks like this:\n",
    "\n",
    "![title](img/work.png)"
   ]
  },
  {
   "cell_type": "markdown",
   "metadata": {
    "slideshow": {
     "slide_type": "slide"
    }
   },
   "source": [
    "#### Load the data\n",
    "\n",
    "First, we load and inspect the data. Here, we have to actually read in a `.csv` file using `pandas.read_csv`.\n",
    "\n",
    "**Question**: What do you you all notice about the way this dataframe is structured?"
   ]
  },
  {
   "cell_type": "code",
   "execution_count": 25,
   "metadata": {
    "slideshow": {
     "slide_type": "-"
    }
   },
   "outputs": [
    {
     "data": {
      "text/plain": [
       "110"
      ]
     },
     "execution_count": 25,
     "metadata": {},
     "output_type": "execute_result"
    }
   ],
   "source": [
    "df_missing = pd.read_csv(\"data/missing_work.csv\")\n",
    "len(df_missing)"
   ]
  },
  {
   "cell_type": "code",
   "execution_count": 26,
   "metadata": {
    "slideshow": {
     "slide_type": "-"
    }
   },
   "outputs": [
    {
     "data": {
      "text/html": [
       "<div>\n",
       "<style scoped>\n",
       "    .dataframe tbody tr th:only-of-type {\n",
       "        vertical-align: middle;\n",
       "    }\n",
       "\n",
       "    .dataframe tbody tr th {\n",
       "        vertical-align: top;\n",
       "    }\n",
       "\n",
       "    .dataframe thead th {\n",
       "        text-align: right;\n",
       "    }\n",
       "</style>\n",
       "<table border=\"1\" class=\"dataframe\">\n",
       "  <thead>\n",
       "    <tr style=\"text-align: right;\">\n",
       "      <th></th>\n",
       "      <th>Year</th>\n",
       "      <th>Child care problems</th>\n",
       "      <th>Maternity or paternity leave</th>\n",
       "      <th>Other family or personal obligations</th>\n",
       "      <th>Illness or injury</th>\n",
       "      <th>Vacation</th>\n",
       "      <th>Month</th>\n",
       "    </tr>\n",
       "  </thead>\n",
       "  <tbody>\n",
       "    <tr>\n",
       "      <th>0</th>\n",
       "      <td>2012</td>\n",
       "      <td>18</td>\n",
       "      <td>313</td>\n",
       "      <td>246</td>\n",
       "      <td>899</td>\n",
       "      <td>1701</td>\n",
       "      <td>10</td>\n",
       "    </tr>\n",
       "    <tr>\n",
       "      <th>1</th>\n",
       "      <td>2012</td>\n",
       "      <td>35</td>\n",
       "      <td>278</td>\n",
       "      <td>230</td>\n",
       "      <td>880</td>\n",
       "      <td>1299</td>\n",
       "      <td>11</td>\n",
       "    </tr>\n",
       "    <tr>\n",
       "      <th>2</th>\n",
       "      <td>2012</td>\n",
       "      <td>13</td>\n",
       "      <td>245</td>\n",
       "      <td>246</td>\n",
       "      <td>944</td>\n",
       "      <td>1005</td>\n",
       "      <td>12</td>\n",
       "    </tr>\n",
       "    <tr>\n",
       "      <th>3</th>\n",
       "      <td>2013</td>\n",
       "      <td>14</td>\n",
       "      <td>257</td>\n",
       "      <td>250</td>\n",
       "      <td>1202</td>\n",
       "      <td>1552</td>\n",
       "      <td>1</td>\n",
       "    </tr>\n",
       "    <tr>\n",
       "      <th>4</th>\n",
       "      <td>2013</td>\n",
       "      <td>27</td>\n",
       "      <td>258</td>\n",
       "      <td>276</td>\n",
       "      <td>1079</td>\n",
       "      <td>1305</td>\n",
       "      <td>2</td>\n",
       "    </tr>\n",
       "  </tbody>\n",
       "</table>\n",
       "</div>"
      ],
      "text/plain": [
       "   Year  Child care problems  Maternity or paternity leave  \\\n",
       "0  2012                   18                           313   \n",
       "1  2012                   35                           278   \n",
       "2  2012                   13                           245   \n",
       "3  2013                   14                           257   \n",
       "4  2013                   27                           258   \n",
       "\n",
       "   Other family or personal obligations  Illness or injury  Vacation  Month  \n",
       "0                                   246                899      1701     10  \n",
       "1                                   230                880      1299     11  \n",
       "2                                   246                944      1005     12  \n",
       "3                                   250               1202      1552      1  \n",
       "4                                   276               1079      1305      2  "
      ]
     },
     "execution_count": 26,
     "metadata": {},
     "output_type": "execute_result"
    }
   ],
   "source": [
    "# Inspecting the dataset\n",
    "df_missing.head(5)"
   ]
  },
  {
   "cell_type": "markdown",
   "metadata": {
    "slideshow": {
     "slide_type": "slide"
    }
   },
   "source": [
    "#### Converting to long format\n",
    "\n",
    "#### Q: Any ideas on how to do this?"
   ]
  },
  {
   "cell_type": "code",
   "execution_count": 27,
   "metadata": {
    "slideshow": {
     "slide_type": "slide"
    }
   },
   "outputs": [],
   "source": [
    "## Note: this is just one of the many approaches!\n",
    "\n",
    "df_missing_long = pd.melt(df_missing, # dataframe\n",
    "                          value_vars=['Child care problems', # which columns to stack into long format\n",
    "                                      'Maternity or paternity leave',# which columns to stack into long format\n",
    "                                      'Other family or personal obligations', # which columns to stack into long format\n",
    "                                      'Illness or injury', # which columns to stack into long format\n",
    "                                      'Vacation'], # which columns to stack into long format\n",
    "                          id_vars=[\"Year\", \"Month\"], # which columns to group/id them by\n",
    "                          var_name = \"Cause\", # what to call the new grouping column\n",
    "                          value_name = \"Days\" # what to call the new value column\n",
    "                         )"
   ]
  },
  {
   "cell_type": "code",
   "execution_count": 28,
   "metadata": {
    "slideshow": {
     "slide_type": "slide"
    }
   },
   "outputs": [
    {
     "data": {
      "text/html": [
       "<div>\n",
       "<style scoped>\n",
       "    .dataframe tbody tr th:only-of-type {\n",
       "        vertical-align: middle;\n",
       "    }\n",
       "\n",
       "    .dataframe tbody tr th {\n",
       "        vertical-align: top;\n",
       "    }\n",
       "\n",
       "    .dataframe thead th {\n",
       "        text-align: right;\n",
       "    }\n",
       "</style>\n",
       "<table border=\"1\" class=\"dataframe\">\n",
       "  <thead>\n",
       "    <tr style=\"text-align: right;\">\n",
       "      <th></th>\n",
       "      <th>Year</th>\n",
       "      <th>Month</th>\n",
       "      <th>Cause</th>\n",
       "      <th>Days</th>\n",
       "    </tr>\n",
       "  </thead>\n",
       "  <tbody>\n",
       "    <tr>\n",
       "      <th>0</th>\n",
       "      <td>2012</td>\n",
       "      <td>10</td>\n",
       "      <td>Child care problems</td>\n",
       "      <td>18</td>\n",
       "    </tr>\n",
       "    <tr>\n",
       "      <th>1</th>\n",
       "      <td>2012</td>\n",
       "      <td>11</td>\n",
       "      <td>Child care problems</td>\n",
       "      <td>35</td>\n",
       "    </tr>\n",
       "    <tr>\n",
       "      <th>2</th>\n",
       "      <td>2012</td>\n",
       "      <td>12</td>\n",
       "      <td>Child care problems</td>\n",
       "      <td>13</td>\n",
       "    </tr>\n",
       "    <tr>\n",
       "      <th>3</th>\n",
       "      <td>2013</td>\n",
       "      <td>1</td>\n",
       "      <td>Child care problems</td>\n",
       "      <td>14</td>\n",
       "    </tr>\n",
       "    <tr>\n",
       "      <th>4</th>\n",
       "      <td>2013</td>\n",
       "      <td>2</td>\n",
       "      <td>Child care problems</td>\n",
       "      <td>27</td>\n",
       "    </tr>\n",
       "  </tbody>\n",
       "</table>\n",
       "</div>"
      ],
      "text/plain": [
       "   Year  Month                Cause  Days\n",
       "0  2012     10  Child care problems    18\n",
       "1  2012     11  Child care problems    35\n",
       "2  2012     12  Child care problems    13\n",
       "3  2013      1  Child care problems    14\n",
       "4  2013      2  Child care problems    27"
      ]
     },
     "execution_count": 28,
     "metadata": {},
     "output_type": "execute_result"
    }
   ],
   "source": [
    "df_missing_long.head(5)"
   ]
  },
  {
   "cell_type": "code",
   "execution_count": 29,
   "metadata": {
    "slideshow": {
     "slide_type": "slide"
    }
   },
   "outputs": [],
   "source": [
    "# Note: One other thing––the original graph aggregated data by the *millions*.\n",
    "# This is already in the *thousands*, so we'll divide by another 1000 to match the origina. \n",
    "df_missing_long['Days_millions'] = df_missing_long['Days']/1000"
   ]
  },
  {
   "cell_type": "markdown",
   "metadata": {
    "slideshow": {
     "slide_type": "slide"
    }
   },
   "source": [
    "#### Distribution over the year\n",
    "\n",
    "Before we try to reconstruct the plot, let's first look at the distribution of missed days **across years**, to see if we can detect any patterns."
   ]
  },
  {
   "cell_type": "markdown",
   "metadata": {
    "slideshow": {
     "slide_type": "slide"
    }
   },
   "source": [
    "#### Q: What pattern should we conclude?"
   ]
  },
  {
   "cell_type": "code",
   "execution_count": 30,
   "metadata": {},
   "outputs": [],
   "source": [
    "### Fill in"
   ]
  },
  {
   "cell_type": "code",
   "execution_count": 31,
   "metadata": {
    "slideshow": {
     "slide_type": "-"
    }
   },
   "outputs": [
    {
     "data": {
      "text/plain": [
       "Text(0, 0.5, 'Days (Millions)')"
      ]
     },
     "execution_count": 31,
     "metadata": {},
     "output_type": "execute_result"
    },
    {
     "data": {
      "image/png": "[encoded data removed]",
      "text/plain": [
       "<Figure size 432x288 with 1 Axes>"
      ]
     },
     "metadata": {
      "image/png": {
       "height": 264,
       "width": 393
      },
      "needs_background": "light"
     },
     "output_type": "display_data"
    }
   ],
   "source": [
    "sns.lineplot(data = df_missing_long,\n",
    "             x = 'Month',\n",
    "             y = 'Days_millions',\n",
    "             alpha = .7)\n",
    "\n",
    "plt.xlabel(\"Month\")\n",
    "plt.ylabel(\"Days (Millions)\")"
   ]
  },
  {
   "cell_type": "markdown",
   "metadata": {
    "slideshow": {
     "slide_type": "slide"
    }
   },
   "source": [
    "#### Q (2): Why is there so much error in the summer months?"
   ]
  },
  {
   "cell_type": "code",
   "execution_count": 32,
   "metadata": {
    "slideshow": {
     "slide_type": "slide"
    }
   },
   "outputs": [
    {
     "data": {
      "text/plain": [
       "Text(0, 0.5, 'Days (Millions)')"
      ]
     },
     "execution_count": 32,
     "metadata": {},
     "output_type": "execute_result"
    },
    {
     "data": {
      "image/png": "[encoded data removed]",
      "text/plain": [
       "<Figure size 432x288 with 1 Axes>"
      ]
     },
     "metadata": {
      "image/png": {
       "height": 263,
       "width": 619
      },
      "needs_background": "light"
     },
     "output_type": "display_data"
    }
   ],
   "source": [
    "# This shows us that it's *vacation* specifically that has a seasonal pattern\n",
    "sns.lineplot(data = df_missing_long,\n",
    "             x = 'Month',\n",
    "             y = 'Days',\n",
    "             hue = 'Cause',\n",
    "             alpha = .7)\n",
    "\n",
    "# This makes sure the legend doesn't cover up the plot itself\n",
    "plt.legend(bbox_to_anchor=(1.02, 1), loc='upper left', borderaxespad=0)\n",
    "plt.xlabel(\"Month\")\n",
    "plt.ylabel(\"Days (Millions)\")"
   ]
  },
  {
   "cell_type": "markdown",
   "metadata": {
    "slideshow": {
     "slide_type": "slide"
    }
   },
   "source": [
    "#### Reconstructing the original plot\n",
    "\n",
    "Now, rather than averaging *across* years to get a picture of the \"average year\", let's just look at this over time.\n",
    "\n",
    "One issue is that we'll first need to convert each observation (a `Month` and a `Year`) into a `datetime` object, so we can plug this into `pandas` and `seaborn` native `datetime` operations."
   ]
  },
  {
   "cell_type": "code",
   "execution_count": 33,
   "metadata": {
    "slideshow": {
     "slide_type": "slide"
    }
   },
   "outputs": [
    {
     "data": {
      "text/html": [
       "<div>\n",
       "<style scoped>\n",
       "    .dataframe tbody tr th:only-of-type {\n",
       "        vertical-align: middle;\n",
       "    }\n",
       "\n",
       "    .dataframe tbody tr th {\n",
       "        vertical-align: top;\n",
       "    }\n",
       "\n",
       "    .dataframe thead th {\n",
       "        text-align: right;\n",
       "    }\n",
       "</style>\n",
       "<table border=\"1\" class=\"dataframe\">\n",
       "  <thead>\n",
       "    <tr style=\"text-align: right;\">\n",
       "      <th></th>\n",
       "      <th>Year</th>\n",
       "      <th>Month</th>\n",
       "      <th>Cause</th>\n",
       "      <th>Days</th>\n",
       "      <th>Days_millions</th>\n",
       "      <th>date</th>\n",
       "    </tr>\n",
       "  </thead>\n",
       "  <tbody>\n",
       "    <tr>\n",
       "      <th>0</th>\n",
       "      <td>2012</td>\n",
       "      <td>10</td>\n",
       "      <td>Child care problems</td>\n",
       "      <td>18</td>\n",
       "      <td>0.018</td>\n",
       "      <td>10-2012</td>\n",
       "    </tr>\n",
       "    <tr>\n",
       "      <th>1</th>\n",
       "      <td>2012</td>\n",
       "      <td>11</td>\n",
       "      <td>Child care problems</td>\n",
       "      <td>35</td>\n",
       "      <td>0.035</td>\n",
       "      <td>11-2012</td>\n",
       "    </tr>\n",
       "    <tr>\n",
       "      <th>2</th>\n",
       "      <td>2012</td>\n",
       "      <td>12</td>\n",
       "      <td>Child care problems</td>\n",
       "      <td>13</td>\n",
       "      <td>0.013</td>\n",
       "      <td>12-2012</td>\n",
       "    </tr>\n",
       "    <tr>\n",
       "      <th>3</th>\n",
       "      <td>2013</td>\n",
       "      <td>1</td>\n",
       "      <td>Child care problems</td>\n",
       "      <td>14</td>\n",
       "      <td>0.014</td>\n",
       "      <td>1-2013</td>\n",
       "    </tr>\n",
       "    <tr>\n",
       "      <th>4</th>\n",
       "      <td>2013</td>\n",
       "      <td>2</td>\n",
       "      <td>Child care problems</td>\n",
       "      <td>27</td>\n",
       "      <td>0.027</td>\n",
       "      <td>2-2013</td>\n",
       "    </tr>\n",
       "  </tbody>\n",
       "</table>\n",
       "</div>"
      ],
      "text/plain": [
       "   Year  Month                Cause  Days  Days_millions     date\n",
       "0  2012     10  Child care problems    18          0.018  10-2012\n",
       "1  2012     11  Child care problems    35          0.035  11-2012\n",
       "2  2012     12  Child care problems    13          0.013  12-2012\n",
       "3  2013      1  Child care problems    14          0.014   1-2013\n",
       "4  2013      2  Child care problems    27          0.027   2-2013"
      ]
     },
     "execution_count": 33,
     "metadata": {},
     "output_type": "execute_result"
    }
   ],
   "source": [
    "## First, let's concatenate each month and year into a single string\n",
    "df_missing_long['date'] = df_missing_long.apply(lambda row: str(row['Month']) + '-' + str(row['Year']), axis = 1)\n",
    "df_missing_long.head(5)"
   ]
  },
  {
   "cell_type": "code",
   "execution_count": 34,
   "metadata": {
    "slideshow": {
     "slide_type": "slide"
    }
   },
   "outputs": [
    {
     "data": {
      "text/html": [
       "<div>\n",
       "<style scoped>\n",
       "    .dataframe tbody tr th:only-of-type {\n",
       "        vertical-align: middle;\n",
       "    }\n",
       "\n",
       "    .dataframe tbody tr th {\n",
       "        vertical-align: top;\n",
       "    }\n",
       "\n",
       "    .dataframe thead th {\n",
       "        text-align: right;\n",
       "    }\n",
       "</style>\n",
       "<table border=\"1\" class=\"dataframe\">\n",
       "  <thead>\n",
       "    <tr style=\"text-align: right;\">\n",
       "      <th></th>\n",
       "      <th>Year</th>\n",
       "      <th>Month</th>\n",
       "      <th>Cause</th>\n",
       "      <th>Days</th>\n",
       "      <th>Days_millions</th>\n",
       "      <th>date</th>\n",
       "      <th>datetime</th>\n",
       "    </tr>\n",
       "  </thead>\n",
       "  <tbody>\n",
       "    <tr>\n",
       "      <th>0</th>\n",
       "      <td>2012</td>\n",
       "      <td>10</td>\n",
       "      <td>Child care problems</td>\n",
       "      <td>18</td>\n",
       "      <td>0.018</td>\n",
       "      <td>10-2012</td>\n",
       "      <td>2012-10-01</td>\n",
       "    </tr>\n",
       "    <tr>\n",
       "      <th>1</th>\n",
       "      <td>2012</td>\n",
       "      <td>11</td>\n",
       "      <td>Child care problems</td>\n",
       "      <td>35</td>\n",
       "      <td>0.035</td>\n",
       "      <td>11-2012</td>\n",
       "      <td>2012-11-01</td>\n",
       "    </tr>\n",
       "    <tr>\n",
       "      <th>2</th>\n",
       "      <td>2012</td>\n",
       "      <td>12</td>\n",
       "      <td>Child care problems</td>\n",
       "      <td>13</td>\n",
       "      <td>0.013</td>\n",
       "      <td>12-2012</td>\n",
       "      <td>2012-12-01</td>\n",
       "    </tr>\n",
       "    <tr>\n",
       "      <th>3</th>\n",
       "      <td>2013</td>\n",
       "      <td>1</td>\n",
       "      <td>Child care problems</td>\n",
       "      <td>14</td>\n",
       "      <td>0.014</td>\n",
       "      <td>1-2013</td>\n",
       "      <td>2013-01-01</td>\n",
       "    </tr>\n",
       "    <tr>\n",
       "      <th>4</th>\n",
       "      <td>2013</td>\n",
       "      <td>2</td>\n",
       "      <td>Child care problems</td>\n",
       "      <td>27</td>\n",
       "      <td>0.027</td>\n",
       "      <td>2-2013</td>\n",
       "      <td>2013-02-01</td>\n",
       "    </tr>\n",
       "  </tbody>\n",
       "</table>\n",
       "</div>"
      ],
      "text/plain": [
       "   Year  Month                Cause  Days  Days_millions     date   datetime\n",
       "0  2012     10  Child care problems    18          0.018  10-2012 2012-10-01\n",
       "1  2012     11  Child care problems    35          0.035  11-2012 2012-11-01\n",
       "2  2012     12  Child care problems    13          0.013  12-2012 2012-12-01\n",
       "3  2013      1  Child care problems    14          0.014   1-2013 2013-01-01\n",
       "4  2013      2  Child care problems    27          0.027   2-2013 2013-02-01"
      ]
     },
     "execution_count": 34,
     "metadata": {},
     "output_type": "execute_result"
    }
   ],
   "source": [
    "## Now, let's create a new \"datetime\" column using the `pd.to_datetime` function\n",
    "df_missing_long['datetime'] = pd.to_datetime(df_missing_long['date'])\n",
    "df_missing_long.head(5)"
   ]
  },
  {
   "cell_type": "markdown",
   "metadata": {
    "slideshow": {
     "slide_type": "slide"
    }
   },
   "source": [
    "#### Q: Now, how can we actually create the final plot?"
   ]
  },
  {
   "cell_type": "code",
   "execution_count": 35,
   "metadata": {
    "slideshow": {
     "slide_type": "slide"
    }
   },
   "outputs": [],
   "source": [
    "### fill in"
   ]
  },
  {
   "cell_type": "markdown",
   "metadata": {
    "slideshow": {
     "slide_type": "slide"
    }
   },
   "source": [
    "#### Bonus: Smoothing\n",
    "\n",
    "If you look at the original plot carefully, you'll see that the observations have been *smoothed* using a rolling window average.\n",
    "\n",
    "Fortunately, we can do the same thing using the `pandas.rolling` function."
   ]
  },
  {
   "cell_type": "code",
   "execution_count": 45,
   "metadata": {
    "slideshow": {
     "slide_type": "slide"
    }
   },
   "outputs": [],
   "source": [
    "## Construct a 3-month rolling average to \"smooth\" the data\n",
    "df_missing_long['Days_rolling_avg'] = df_missing_long['Days_millions'].rolling(3).mean()"
   ]
  },
  {
   "cell_type": "code",
   "execution_count": 36,
   "metadata": {
    "slideshow": {
     "slide_type": "slide"
    }
   },
   "outputs": [],
   "source": [
    "### fill in"
   ]
  },
  {
   "cell_type": "code",
   "execution_count": 37,
   "metadata": {
    "slideshow": {
     "slide_type": "slide"
    }
   },
   "outputs": [],
   "source": [
    "## Discussion: Should we limit y-axis/causes to investigate trends in other causes, like child care problems?\n",
    "## Q: How could we do this?"
   ]
  },
  {
   "cell_type": "code",
   "execution_count": 38,
   "metadata": {
    "slideshow": {
     "slide_type": "slide"
    }
   },
   "outputs": [],
   "source": [
    "### fill in"
   ]
  },
  {
   "cell_type": "markdown",
   "metadata": {
    "slideshow": {
     "slide_type": "slide"
    }
   },
   "source": [
    "## Part 4 (Bonus): Anscombe's Quartet\n",
    "\n",
    "As discussed in the slides, one key motivation for making data visualizations is **exploratory data analysis** (EDA). Among other things, EDA can be used to ensure that the assumptions of a statistical test are met (e.g., that a relationship in our data is linear, if one is running linear regression)."
   ]
  },
  {
   "cell_type": "markdown",
   "metadata": {
    "slideshow": {
     "slide_type": "slide"
    }
   },
   "source": [
    "### Load data"
   ]
  },
  {
   "cell_type": "code",
   "execution_count": 39,
   "metadata": {
    "slideshow": {
     "slide_type": "-"
    }
   },
   "outputs": [
    {
     "data": {
      "text/html": [
       "<div>\n",
       "<style scoped>\n",
       "    .dataframe tbody tr th:only-of-type {\n",
       "        vertical-align: middle;\n",
       "    }\n",
       "\n",
       "    .dataframe tbody tr th {\n",
       "        vertical-align: top;\n",
       "    }\n",
       "\n",
       "    .dataframe thead th {\n",
       "        text-align: right;\n",
       "    }\n",
       "</style>\n",
       "<table border=\"1\" class=\"dataframe\">\n",
       "  <thead>\n",
       "    <tr style=\"text-align: right;\">\n",
       "      <th></th>\n",
       "      <th>dataset</th>\n",
       "      <th>x</th>\n",
       "      <th>y</th>\n",
       "    </tr>\n",
       "  </thead>\n",
       "  <tbody>\n",
       "    <tr>\n",
       "      <th>0</th>\n",
       "      <td>I</td>\n",
       "      <td>10.0</td>\n",
       "      <td>8.04</td>\n",
       "    </tr>\n",
       "    <tr>\n",
       "      <th>1</th>\n",
       "      <td>I</td>\n",
       "      <td>8.0</td>\n",
       "      <td>6.95</td>\n",
       "    </tr>\n",
       "    <tr>\n",
       "      <th>2</th>\n",
       "      <td>I</td>\n",
       "      <td>13.0</td>\n",
       "      <td>7.58</td>\n",
       "    </tr>\n",
       "    <tr>\n",
       "      <th>3</th>\n",
       "      <td>I</td>\n",
       "      <td>9.0</td>\n",
       "      <td>8.81</td>\n",
       "    </tr>\n",
       "    <tr>\n",
       "      <th>4</th>\n",
       "      <td>I</td>\n",
       "      <td>11.0</td>\n",
       "      <td>8.33</td>\n",
       "    </tr>\n",
       "  </tbody>\n",
       "</table>\n",
       "</div>"
      ],
      "text/plain": [
       "  dataset     x     y\n",
       "0       I  10.0  8.04\n",
       "1       I   8.0  6.95\n",
       "2       I  13.0  7.58\n",
       "3       I   9.0  8.81\n",
       "4       I  11.0  8.33"
      ]
     },
     "execution_count": 39,
     "metadata": {},
     "output_type": "execute_result"
    }
   ],
   "source": [
    "df_anscombe = sns.load_dataset(\"anscombe\")\n",
    "df_anscombe.head(5)"
   ]
  },
  {
   "cell_type": "markdown",
   "metadata": {
    "slideshow": {
     "slide_type": "slide"
    }
   },
   "source": [
    "### Calculate correlation coefficient for each dataset\n",
    "\n",
    "Just to make sure the central claim is correct, let's calculate Pearson's r for each dataset. Is it roughly the same in each?"
   ]
  },
  {
   "cell_type": "code",
   "execution_count": 40,
   "metadata": {
    "slideshow": {
     "slide_type": "slide"
    }
   },
   "outputs": [
    {
     "data": {
      "text/html": [
       "<div>\n",
       "<style scoped>\n",
       "    .dataframe tbody tr th:only-of-type {\n",
       "        vertical-align: middle;\n",
       "    }\n",
       "\n",
       "    .dataframe tbody tr th {\n",
       "        vertical-align: top;\n",
       "    }\n",
       "\n",
       "    .dataframe thead th {\n",
       "        text-align: right;\n",
       "    }\n",
       "</style>\n",
       "<table border=\"1\" class=\"dataframe\">\n",
       "  <thead>\n",
       "    <tr style=\"text-align: right;\">\n",
       "      <th></th>\n",
       "      <th>r</th>\n",
       "      <th>dataset</th>\n",
       "    </tr>\n",
       "  </thead>\n",
       "  <tbody>\n",
       "    <tr>\n",
       "      <th>0</th>\n",
       "      <td>0.8163</td>\n",
       "      <td>III</td>\n",
       "    </tr>\n",
       "    <tr>\n",
       "      <th>1</th>\n",
       "      <td>0.8162</td>\n",
       "      <td>II</td>\n",
       "    </tr>\n",
       "    <tr>\n",
       "      <th>2</th>\n",
       "      <td>0.8165</td>\n",
       "      <td>IV</td>\n",
       "    </tr>\n",
       "    <tr>\n",
       "      <th>3</th>\n",
       "      <td>0.8164</td>\n",
       "      <td>I</td>\n",
       "    </tr>\n",
       "  </tbody>\n",
       "</table>\n",
       "</div>"
      ],
      "text/plain": [
       "        r dataset\n",
       "0  0.8163     III\n",
       "1  0.8162      II\n",
       "2  0.8165      IV\n",
       "3  0.8164       I"
      ]
     },
     "execution_count": 40,
     "metadata": {},
     "output_type": "execute_result"
    }
   ],
   "source": [
    "from scipy.stats import pearsonr\n",
    "\n",
    "corrs = []\n",
    "for dataset in set(df_anscombe['dataset']):\n",
    "    df_tmp = df_anscombe[df_anscombe['dataset']==dataset]\n",
    "    r = round(pearsonr(df_tmp['x'], df_tmp['y'])[0], 4)\n",
    "    corrs.append({\n",
    "        'r': r,\n",
    "        'dataset': dataset\n",
    "    })\n",
    "\n",
    "df_corrs = pd.DataFrame(corrs)\n",
    "df_corrs"
   ]
  },
  {
   "cell_type": "markdown",
   "metadata": {
    "slideshow": {
     "slide_type": "slide"
    }
   },
   "source": [
    "### Plot the data: a first (and flawed) approach\n",
    "\n",
    "First, I'm going to plot the data just using `seaborn.scatterplot`."
   ]
  },
  {
   "cell_type": "code",
   "execution_count": 41,
   "metadata": {},
   "outputs": [
    {
     "data": {
      "text/plain": [
       "Text(0, 0.5, 'Y')"
      ]
     },
     "execution_count": 41,
     "metadata": {},
     "output_type": "execute_result"
    },
    {
     "data": {
      "image/png": "[encoded data removed]",
      "text/plain": [
       "<Figure size 432x288 with 1 Axes>"
      ]
     },
     "metadata": {
      "image/png": {
       "height": 263,
       "width": 384
      },
      "needs_background": "light"
     },
     "output_type": "display_data"
    }
   ],
   "source": [
    "# Q: What's wrong with this approach?\n",
    "\n",
    "sns.scatterplot(data = df_anscombe,\n",
    "                x = 'x',\n",
    "                y = 'y')\n",
    "\n",
    "plt.xlabel(\"X\")\n",
    "plt.ylabel(\"Y\")"
   ]
  },
  {
   "cell_type": "markdown",
   "metadata": {
    "slideshow": {
     "slide_type": "slide"
    }
   },
   "source": [
    "### Plot the data using `FacetGrid`\n",
    "\n",
    "The above plot **lumps** all the datasets together into the same plot. But we want to visualize them all *separately*.\n",
    "\n",
    "For this, we can rely on `FacetGrid`."
   ]
  },
  {
   "cell_type": "markdown",
   "metadata": {
    "slideshow": {
     "slide_type": "slide"
    }
   },
   "source": [
    "#### Introducing `FacetGrid`\n",
    "\n",
    "The `FacetGrid` object allows you to `map` a particular plot aesthetic (i.e., a particular `x/y` axis choice) onto multiple subplots, broken up by the levels of a categorical variable.\n",
    "\n",
    "For example, you could create different subplots for `payment` type (`cash` vs. `credit card`), each showing the same relationship between `distance` and `fare`."
   ]
  },
  {
   "cell_type": "code",
   "execution_count": 42,
   "metadata": {
    "slideshow": {
     "slide_type": "slide"
    }
   },
   "outputs": [
    {
     "data": {
      "text/plain": [
       "<seaborn.axisgrid.FacetGrid at 0x7f87e48acba8>"
      ]
     },
     "execution_count": 42,
     "metadata": {},
     "output_type": "execute_result"
    },
    {
     "data": {
      "image/png": "[encoded data removed]",
      "text/plain": [
       "<Figure size 864x216 with 4 Axes>"
      ]
     },
     "metadata": {
      "image/png": {
       "height": 207,
       "width": 851
      },
      "needs_background": "light"
     },
     "output_type": "display_data"
    }
   ],
   "source": [
    "g = sns.FacetGrid(df_anscombe, col=\"dataset\")\n",
    "g.map(sns.scatterplot, \"x\", \"y\")"
   ]
  },
  {
   "cell_type": "markdown",
   "metadata": {
    "slideshow": {
     "slide_type": "slide"
    }
   },
   "source": [
    "### Plot the data using `lmplot`\n",
    "\n",
    "Another approach that allows us to `facet` the data is to use `lmplot`. \n",
    "\n",
    "The benefit of `lmplot` is that it will also plot a regression line over our data, which, in this case, clearly demonstrates that across each dataset, the estimated slope is roughly the same."
   ]
  },
  {
   "cell_type": "code",
   "execution_count": null,
   "metadata": {
    "slideshow": {
     "slide_type": "slide"
    }
   },
   "outputs": [
    {
     "data": {
      "text/plain": [
       "<seaborn.axisgrid.FacetGrid at 0x7f87e36243c8>"
      ]
     },
     "execution_count": 43,
     "metadata": {},
     "output_type": "execute_result"
    }
   ],
   "source": [
    "sns.lmplot(data = df_anscombe,\n",
    "           x = 'x',\n",
    "           y = 'y',\n",
    "           col = 'dataset')"
   ]
  },
  {
   "cell_type": "markdown",
   "metadata": {
    "slideshow": {
     "slide_type": "slide"
    }
   },
   "source": [
    "## Conclusion\n",
    "\n",
    "This concludes the tutorial! Hopefully, this has equipped you with some of the tools necessary to:\n",
    "\n",
    "- **Describe** the benefits and advantages of data visualization.\n",
    "- **Propose** a suitable data visualization for a particular *dataset* and *question*.  \n",
    "- **Implement** a first-draft of this visualization in Python, using either `matplotlib` or `seaborn`.  \n",
    "- **Evaluate** this data visualization and make suggestions for improvements in future iterations.  \n",
    "- **Reconstruct** a visualization found \"in the wild\" using the appropriate dataset.\n",
    "\n",
    "If you're interested in R, a tutorial on data visualization in R can be found [here](https://seantrott.github.io/data_wrangling_visualization/)."
   ]
  },
  {
   "cell_type": "code",
   "execution_count": null,
   "metadata": {},
   "outputs": [],
   "source": []
  },
  {
   "cell_type": "code",
   "execution_count": null,
   "metadata": {},
   "outputs": [],
   "source": []
  }
 ],
 "metadata": {
  "celltoolbar": "Slideshow",
  "kernelspec": {
   "display_name": "Python 3",
   "language": "python",
   "name": "python3"
  },
  "language_info": {
   "codemirror_mode": {
    "name": "ipython",
    "version": 3
   },
   "file_extension": ".py",
   "mimetype": "text/x-python",
   "name": "python",
   "nbconvert_exporter": "python",
   "pygments_lexer": "ipython3",
   "version": "3.7.1"
  }
 },
 "nbformat": 4,
 "nbformat_minor": 2
}
